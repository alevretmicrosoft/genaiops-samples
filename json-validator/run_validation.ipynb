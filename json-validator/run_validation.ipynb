{
 "cells": [
  {
   "cell_type": "code",
   "execution_count": 1,
   "metadata": {},
   "outputs": [],
   "source": [
    "# Import necessary libraries\n",
    "import os\n",
    "import json\n",
    "\n",
    "# requires jsonschema>=4.23.0\n",
    "from jsonschema import validate, ValidationError\n",
    "\n",
    "# Set the module directory to locate the .env file\n",
    "base_directory = os.path.dirname(os.path.abspath(\"__file__\"))\n",
    "\n",
    "# Set the data, template, and validation directories\n",
    "data_directory = os.path.join(base_directory, \"data\")\n",
    "validation_directory = os.path.join(base_directory, \"schema\")\n"
   ]
  },
  {
   "cell_type": "markdown",
   "metadata": {},
   "source": [
    "### Helper Functions"
   ]
  },
  {
   "cell_type": "code",
   "execution_count": 2,
   "metadata": {},
   "outputs": [],
   "source": [
    "def get_ft_validation_schema(ft_type, schema_directory):\n",
    "    \"\"\"\n",
    "    Function to load the JSON validation schema for the fine-tuning data\n",
    "\n",
    "    Args:\n",
    "        - ft_type (str): The fine-tuning type - supervised or dpo\n",
    "        - schema_directory (str): The directory where the JSON validation\n",
    "\n",
    "    Returns:\n",
    "        - schema (dict): The JSON validation schema\n",
    "    \"\"\"\n",
    "    # Check the fine-tuning type and load the appropriate schema\n",
    "    if ft_type == \"supervised\":\n",
    "        schema_file = \"supervised_ft_schema.json\"\n",
    "    elif ft_type == \"dpo\":\n",
    "        schema_file = \"dpo_ft_schema.json\"\n",
    "    \n",
    "    # Set the schema path\n",
    "    schema_path = os.path.join(schema_directory, schema_file)\n",
    "\n",
    "    # Load the JSON validation schema\n",
    "    with open(schema_path, \"r\") as file:\n",
    "        schema = file.read()\n",
    "\n",
    "    return json.loads(schema)\n",
    "\n",
    "\n",
    "def validate_jsonl(file_path, schema):\n",
    "    \"\"\"\n",
    "    Function to validate a JSONL file against a JSON schema\n",
    "    \n",
    "    Args:\n",
    "        - file_path (str): The path to the JSONL file\n",
    "        - schema (dict): The JSON schema to validate against\n",
    "    \n",
    "    Returns:\n",
    "        - num_lines (int): The number of lines in the file\n",
    "        - num_errors (int): The number of errors in the file\n",
    "        - errors (list): A list of errors in the file\n",
    "    \"\"\"\n",
    "    # Initialize counters\n",
    "    num_lines = 0\n",
    "    num_errors = 0\n",
    "    errors = []\n",
    "    \n",
    "    # Open the file and read line by line\n",
    "    with open(file_path, 'r') as file:\n",
    "        for line_number, line in enumerate(file, start=1):\n",
    "            num_lines += 1\n",
    "            try:\n",
    "                # Parse the JSON line\n",
    "                json_object = json.loads(line)\n",
    "                # Validate against the schema\n",
    "                validate(instance=json_object, schema=schema)\n",
    "            except json.JSONDecodeError:\n",
    "                errors.append(f\"Line {line_number}: Invalid JSON format\")\n",
    "                num_errors += 1\n",
    "            except ValidationError as e:\n",
    "                errors.append(f\"Line {line_number}: Schema validation error - {e.message}\")\n",
    "                num_errors += 1\n",
    "\n",
    "    return num_lines, num_errors, errors"
   ]
  },
  {
   "cell_type": "markdown",
   "metadata": {},
   "source": [
    "### Check if the format is correct"
   ]
  },
  {
   "cell_type": "code",
   "execution_count": 3,
   "metadata": {},
   "outputs": [],
   "source": [
    "# Load the schema to validate the jsonl\n",
    "sup_ft_schema = get_ft_validation_schema(ft_type = \"supervised\", schema_directory = validation_directory)\n",
    "dpo_ft_schema = get_ft_validation_schema(ft_type = \"dpo\", schema_directory = validation_directory)"
   ]
  },
  {
   "cell_type": "code",
   "execution_count": 4,
   "metadata": {},
   "outputs": [],
   "source": [
    "sup_data = os.path.join(data_directory, \"sup_ft_test_optimistic.jsonl\")\n",
    "dpo_data = os.path.join(data_directory, \"dpo_ft_test_optimistic.jsonl\")"
   ]
  },
  {
   "cell_type": "code",
   "execution_count": 5,
   "metadata": {},
   "outputs": [
    {
     "name": "stdout",
     "output_type": "stream",
     "text": [
      "0/50 errors in the file\n",
      "[]\n"
     ]
    }
   ],
   "source": [
    "# Run the validation\n",
    "num_lines, num_errors, errors = validate_jsonl(sup_data, sup_ft_schema)\n",
    "\n",
    "# print the output of the validation\n",
    "print(f\"{num_errors}/{num_lines} errors in the file\")\n",
    "print(errors)"
   ]
  },
  {
   "cell_type": "code",
   "execution_count": 6,
   "metadata": {},
   "outputs": [
    {
     "name": "stdout",
     "output_type": "stream",
     "text": [
      "0/50 errors in the file\n",
      "[]\n"
     ]
    }
   ],
   "source": [
    "# Run the validation\n",
    "num_lines, num_errors, errors = validate_jsonl(dpo_data, dpo_ft_schema)\n",
    "\n",
    "# print the output of the validation\n",
    "print(f\"{num_errors}/{num_lines} errors in the file\")\n",
    "print(errors)"
   ]
  },
  {
   "cell_type": "markdown",
   "metadata": {},
   "source": [
    "### Example of Error"
   ]
  },
  {
   "cell_type": "code",
   "execution_count": 7,
   "metadata": {},
   "outputs": [
    {
     "name": "stdout",
     "output_type": "stream",
     "text": [
      "1/50 errors in the file\n",
      "[\"Line 1: Schema validation error - 'system1' is not one of ['system', 'user', 'assistant']\"]\n"
     ]
    }
   ],
   "source": [
    "dpo_data = os.path.join(data_directory, \"dpo_ft_test_optimistic_error.jsonl\") \n",
    "# Run the validation\n",
    "num_lines, num_errors, errors = validate_jsonl(dpo_data, dpo_ft_schema)\n",
    "\n",
    "# print the output of the validation\n",
    "print(f\"{num_errors}/{num_lines} errors in the file\")\n",
    "print(errors)"
   ]
  },
  {
   "cell_type": "code",
   "execution_count": null,
   "metadata": {},
   "outputs": [],
   "source": []
  }
 ],
 "metadata": {
  "kernelspec": {
   "display_name": "ft-hr",
   "language": "python",
   "name": "python3"
  },
  "language_info": {
   "codemirror_mode": {
    "name": "ipython",
    "version": 3
   },
   "file_extension": ".py",
   "mimetype": "text/x-python",
   "name": "python",
   "nbconvert_exporter": "python",
   "pygments_lexer": "ipython3",
   "version": "3.10.16"
  }
 },
 "nbformat": 4,
 "nbformat_minor": 2
}
